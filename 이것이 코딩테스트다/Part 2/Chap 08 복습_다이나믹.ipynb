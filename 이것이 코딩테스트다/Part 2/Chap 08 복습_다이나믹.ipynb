{
 "cells": [
  {
   "cell_type": "code",
   "execution_count": 1,
   "metadata": {},
   "outputs": [
    {
     "name": "stdout",
     "output_type": "stream",
     "text": [
      "1\n"
     ]
    }
   ],
   "source": [
    "# 1로 만들기 \n",
    "n=int(input())\n",
    "\n",
    "d=[0]*30001\n",
    "\n",
    "for i in range(2,n+1):\n",
    "    d[i]=d[i-1]+1\n",
    "    \n",
    "    if d[i]%2==0:\n",
    "        d[i]=min(d[i],d[i//2]+1)\n",
    "    if d[i]%3==0:\n",
    "        d[i]=min(d[i],d[i//3]+1)\n",
    "    if d[i]%5==0:\n",
    "        d[i]=min(d[i],d[i//5]+1)\n",
    "\n",
    "print(d[n])\n",
    "\n",
    "\n",
    "\n"
   ]
  },
  {
   "cell_type": "markdown",
   "metadata": {},
   "source": [
    "## 실전문제 4 바닥 공사"
   ]
  },
  {
   "cell_type": "code",
   "execution_count": 2,
   "metadata": {},
   "outputs": [
    {
     "name": "stdout",
     "output_type": "stream",
     "text": [
      "5\n"
     ]
    }
   ],
   "source": [
    "n=int(input())\n",
    "\n",
    "d=[0]*1001\n",
    "\n",
    "d[1]=1\n",
    "d[2]=3\n",
    "for i in range(3,n+1):\n",
    "    d[i]=(d[i-1]+2*d[i-2])%796796\n",
    "\n",
    "print(d[n])"
   ]
  },
  {
   "cell_type": "markdown",
   "metadata": {},
   "source": [
    "## 실전문제 5 효율적인 화폐 구성"
   ]
  },
  {
   "cell_type": "code",
   "execution_count": 7,
   "metadata": {},
   "outputs": [
    {
     "name": "stdout",
     "output_type": "stream",
     "text": [
      "-1\n"
     ]
    }
   ],
   "source": [
    "n,m=map(int, input().split())\n",
    "m_list=[]\n",
    "\n",
    "for i in range(n):\n",
    "    m_list.append(int(input()))\n",
    "\n",
    "m_list.sort()\n",
    "\n",
    "# 한 번 계산된 결과를 저장하기 위한 DP 테이블 초기화\n",
    "d=[10001]*(m+1)\n",
    "\n",
    "#다이나믹 프로그래밍\n",
    "d[0]=0\n",
    "for i in range(n):\n",
    "    for j in range(m_list[i],m+1):\n",
    "        if d[j-m_list[i]] != 10001: #(i-k)원을 만드는 방법이 존재하는 경우\n",
    "            d[j]=min(d[j],d[j-m_list[i]]+1)\n",
    "\n",
    "if d[m]==10001:\n",
    "    print(-1)\n",
    "else:\n",
    "    print(d[m])\n"
   ]
  },
  {
   "cell_type": "code",
   "execution_count": 3,
   "metadata": {},
   "outputs": [
    {
     "data": {
      "text/plain": [
       "[1, 4, 7]"
      ]
     },
     "execution_count": 3,
     "metadata": {},
     "output_type": "execute_result"
    }
   ],
   "source": [
    "m_list"
   ]
  },
  {
   "cell_type": "markdown",
   "metadata": {},
   "source": [
    "## RGB 거리"
   ]
  },
  {
   "cell_type": "code",
   "execution_count": 5,
   "metadata": {},
   "outputs": [],
   "source": [
    "num=int(input())\n",
    "cost_list=[]\n",
    "\n",
    "for i in range(num):\n",
    "    cost_list.append(list(map(int, input().split())))"
   ]
  },
  {
   "cell_type": "code",
   "execution_count": 7,
   "metadata": {},
   "outputs": [
    {
     "data": {
      "text/plain": [
       "[[26, 40, 83], [49, 60, 57], [13, 89, 99]]"
      ]
     },
     "execution_count": 7,
     "metadata": {},
     "output_type": "execute_result"
    }
   ],
   "source": [
    "\n",
    "d=[0]*num\n",
    "\n",
    "cost_list"
   ]
  },
  {
   "cell_type": "code",
   "execution_count": null,
   "metadata": {},
   "outputs": [],
   "source": []
  }
 ],
 "metadata": {
  "kernelspec": {
   "display_name": "jm",
   "language": "python",
   "name": "python3"
  },
  "language_info": {
   "codemirror_mode": {
    "name": "ipython",
    "version": 3
   },
   "file_extension": ".py",
   "mimetype": "text/x-python",
   "name": "python",
   "nbconvert_exporter": "python",
   "pygments_lexer": "ipython3",
   "version": "3.7.16"
  }
 },
 "nbformat": 4,
 "nbformat_minor": 2
}
