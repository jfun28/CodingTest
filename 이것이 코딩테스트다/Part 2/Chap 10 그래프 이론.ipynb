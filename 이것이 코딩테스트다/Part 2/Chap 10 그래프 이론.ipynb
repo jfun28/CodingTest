{
 "cells": [
  {
   "cell_type": "code",
   "execution_count": 3,
   "metadata": {},
   "outputs": [
    {
     "name": "stdout",
     "output_type": "stream",
     "text": [
      "각 원소가 속한 집합: 1 1 1 1 5 5 \n",
      "0 1 1 1 1 5 5 "
     ]
    }
   ],
   "source": [
    "# 특정 원소가 속한 집합을 찾기\n",
    "def find_parent(parent,x):\n",
    "    # 루트 노드가 아니라면, 루트 노드를 찾을 때까지 재귀적으 호출\n",
    "    if parent[x]!=x:\n",
    "        parent[x]=find_parent(parent,parent[x]) # 부모 노드와 자기가 일치해야지 제일 상단에 있는 부모노드이다. \n",
    "    return parent[x]\n",
    "\n",
    "# 두 원소가 속한 집합을 합치기\n",
    "def union_parent(parent,a,b):\n",
    "    a=find_parent(parent,a)\n",
    "    b=find_parent(parent,b)\n",
    "\n",
    "    if a<b:\n",
    "        parent[b]=a\n",
    "    else:\n",
    "        parent[a]=b\n",
    "\n",
    "\n",
    "\n",
    "\n",
    "# 노드의 개수와 간선의 개수 입력받기\n",
    "v,e=map(int,input().split())\n",
    "parent=[0]*(v+1)\n",
    "\n",
    "# 부모 테이블상에서, 부모를 자기 자신으로 포기화\n",
    "for i in range(1,v+1):\n",
    "    parent[i]=i\n",
    "\n",
    "# union 연산을 각각 수행\n",
    "for i in range(e):\n",
    "    a,b=map(int,input().split())\n",
    "    union_parent(parent,a,b)\n",
    "\n",
    "\n",
    "# 각 원소가 속한 집합 출력\n",
    "print('각 원소가 속한 집합: ',end='')\n",
    "\n",
    "for i in range(1,v+1):\n",
    "    print(find_parent(parent,i), end=' ')\n",
    "\n",
    "\n",
    "print()\n",
    "\n",
    "\n",
    "# 부모 테이블 내용 출력\n",
    "for i in range(v+1):\n",
    "    print(parent[i],end=' ')\n"
   ]
  },
  {
   "cell_type": "code",
   "execution_count": 2,
   "metadata": {},
   "outputs": [
    {
     "data": {
      "text/plain": [
       "[0, 1, 1, 2, 1, 5, 5]"
      ]
     },
     "execution_count": 2,
     "metadata": {},
     "output_type": "execute_result"
    }
   ],
   "source": [
    "parent"
   ]
  },
  {
   "cell_type": "code",
   "execution_count": 8,
   "metadata": {},
   "outputs": [
    {
     "name": "stdout",
     "output_type": "stream",
     "text": [
      "사이클이 발생했습니다.\n"
     ]
    }
   ],
   "source": [
    "# 10-4.py 서로소 집합을 활용한 사이클 판별 소스코드\n",
    "def find_parent(parent,x):\n",
    "    if parent[x]!=x:\n",
    "        parent[x]=find_parent(parent,parent[x])\n",
    "    return parent[x]\n",
    "\n",
    "\n",
    "def union_parent(parent,a,b):\n",
    "    a=find_parent(parent,a)\n",
    "    b=find_parent(parent,b)\n",
    "    if a<b:\n",
    "        parent[b]=a\n",
    "    else:\n",
    "        parent[a]=b\n",
    "\n",
    "v,e=map(int,input().split())\n",
    "\n",
    "parent=[0]*(v+1) # 부모 테이블 초기화 \n",
    "\n",
    "cycle=False\n",
    "\n",
    "for i in range(v+1):\n",
    "    parent[i]=i\n",
    "\n",
    "\n",
    "for i in range(e):\n",
    "    a,b=map(int,input().split())\n",
    "    #사이클이 발생한 경우 종료\n",
    "    if find_parent(parent,a)==find_parent(parent,b):\n",
    "        cycle=True\n",
    "        break\n",
    "    # 사이클이 발생하지 않았다면 합집합 수행\n",
    "    else:\n",
    "        union_parent(parent,a,b)\n",
    "\n",
    "if cycle:\n",
    "    print(\"사이클이 발생했습니다.\")\n",
    "\n",
    "\n",
    "else:\n",
    "    print(\"사이클이 발생하지 않았습니다.\")\n"
   ]
  },
  {
   "cell_type": "code",
   "execution_count": null,
   "metadata": {},
   "outputs": [],
   "source": []
  }
 ],
 "metadata": {
  "kernelspec": {
   "display_name": "jm",
   "language": "python",
   "name": "python3"
  },
  "language_info": {
   "codemirror_mode": {
    "name": "ipython",
    "version": 3
   },
   "file_extension": ".py",
   "mimetype": "text/x-python",
   "name": "python",
   "nbconvert_exporter": "python",
   "pygments_lexer": "ipython3",
   "version": "3.7.16"
  }
 },
 "nbformat": 4,
 "nbformat_minor": 2
}
