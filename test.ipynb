{
 "cells": [
  {
   "cell_type": "code",
   "execution_count": 3,
   "metadata": {},
   "outputs": [],
   "source": [
    "a_list=[1,2,3,4]\n",
    "b_list=[1,2]"
   ]
  },
  {
   "cell_type": "code",
   "execution_count": 4,
   "metadata": {},
   "outputs": [
    {
     "ename": "TypeError",
     "evalue": "unsupported operand type(s) for -: 'list' and 'list'",
     "output_type": "error",
     "traceback": [
      "\u001b[1;31m---------------------------------------------------------------------------\u001b[0m",
      "\u001b[1;31mTypeError\u001b[0m                                 Traceback (most recent call last)",
      "Cell \u001b[1;32mIn[4], line 1\u001b[0m\n\u001b[1;32m----> 1\u001b[0m \u001b[43ma_list\u001b[49m\u001b[38;5;241;43m-\u001b[39;49m\u001b[43mb_list\u001b[49m\n",
      "\u001b[1;31mTypeError\u001b[0m: unsupported operand type(s) for -: 'list' and 'list'"
     ]
    }
   ],
   "source": [
    "a_list=[1,2,3,4]\n",
    "b_list=[1,2]"
   ]
  },
  {
   "cell_type": "code",
   "execution_count": 8,
   "metadata": {},
   "outputs": [],
   "source": [
    "a=['baekjoononlinejudge','startlink','codeplus','sundaycoding','codingsh']"
   ]
  },
  {
   "cell_type": "code",
   "execution_count": 2,
   "metadata": {},
   "outputs": [],
   "source": [
    "graph = [\n",
    "    [1, 2, 3],\n",
    "    [4, 5, 6],\n",
    "    [7, 8, 9]\n",
    "]"
   ]
  },
  {
   "cell_type": "code",
   "execution_count": 3,
   "metadata": {},
   "outputs": [],
   "source": [
    "min_h=min(map(min,graph))"
   ]
  },
  {
   "cell_type": "code",
   "execution_count": 4,
   "metadata": {},
   "outputs": [],
   "source": [
    "test=map(min,graph)"
   ]
  },
  {
   "cell_type": "code",
   "execution_count": 7,
   "metadata": {},
   "outputs": [
    {
     "name": "stdout",
     "output_type": "stream",
     "text": [
      "1\n",
      "2\n",
      "3\n"
     ]
    }
   ],
   "source": [
    "# 리스트로부터 iterator 생성\n",
    "numbers = [1, 2, 3]\n",
    "iter_obj = iter(numbers)\n",
    "\n",
    "# next()로 순차적 접근\n",
    "print(next(iter_obj))  # 1\n",
    "print(next(iter_obj))  # 2\n",
    "print(next(iter_obj))  # 3\n",
    "# print(next(iter_obj))  # StopIteration 예외 발생\n",
    "\n",
    "# for 문에서의 사용\n",
    "for num in iter_obj:\n",
    "    print(num)"
   ]
  },
  {
   "cell_type": "code",
   "execution_count": 6,
   "metadata": {},
   "outputs": [],
   "source": [
    "numbers = [1, 2, 3]\n",
    "x,y,z=numbers\n"
   ]
  },
  {
   "cell_type": "code",
   "execution_count": 6,
   "metadata": {},
   "outputs": [],
   "source": [
    "from collections import deque\n",
    "visited=[[0]*2001 for i in range(2001)]\n",
    "\n",
    "queue=deque()\n",
    "queue.append([1, 0, 0])\n",
    "\n",
    "# bg, cl, time = queue.popleft()\n",
    "\n",
    "\n"
   ]
  },
  {
   "cell_type": "code",
   "execution_count": 7,
   "metadata": {},
   "outputs": [
    {
     "data": {
      "text/plain": [
       "deque([[1, 0, 0]])"
      ]
     },
     "execution_count": 7,
     "metadata": {},
     "output_type": "execute_result"
    }
   ],
   "source": [
    "queue"
   ]
  },
  {
   "cell_type": "code",
   "execution_count": null,
   "metadata": {},
   "outputs": [
    {
     "data": {
      "text/plain": [
       "True"
      ]
     },
     "execution_count": 11,
     "metadata": {},
     "output_type": "execute_result"
    }
   ],
   "source": [
    "import sys \n",
    "sys.setrecursionlimit(10000) \n",
    "\n",
    "def dfs(x, y): \n",
    "\tdx = [1, -1, 0, 0] \n",
    "\tdy = [0, 0, 1, -1] \n",
    "    \n",
    "    # 상,하,좌,우 확인 \n",
    "\tfor i in range(4): \n",
    "\t\tnx = x + dx[i] \n",
    "        ny = y + dy[i] \n",
    "        \n",
    "        if (0 <= nx < N) and (0 <= ny < M): \n",
    "        \tif matrix[nx][ny] == 1: \n",
    "            \tmatrix[nx][ny] = -1 \n",
    "                dfs(nx, ny)\n",
    "               \n",
    "T = int(input()) \n",
    "for _ in range(T): \n",
    "\tM, N, K = map(int, input().split()) \n",
    "    matrix = [[0]*M for _ in range(N)] \n",
    "    cnt = 0 \n",
    "    \n",
    "    # 행렬 생성 \n",
    "    for _ in range(K): \n",
    "    \tm, n = map(int, input().split()) \n",
    "    \tmatrix[n][m] = 1 \n",
    "        \n",
    "    for i in range(N): # 행 (바깥 리스트) \n",
    "    \tfor j in range(M): # 열 (내부 리스트) \n",
    "        \tif matrix[i][j] > 0: \n",
    "            \tdfs(i, j) \n",
    "                cnt += 1 \n",
    "\n",
    "\n",
    "print(cnt)"
   ]
  },
  {
   "cell_type": "code",
   "execution_count": 10,
   "metadata": {},
   "outputs": [
    {
     "data": {
      "text/plain": [
       "['baekjoononlinejudge', 'codeplus', 'codingsh', 'startlink', 'sundaycoding']"
      ]
     },
     "execution_count": 10,
     "metadata": {},
     "output_type": "execute_result"
    }
   ],
   "source": [
    "a"
   ]
  },
  {
   "cell_type": "code",
   "execution_count": 7,
   "metadata": {},
   "outputs": [
    {
     "data": {
      "text/plain": [
       "'star'"
      ]
     },
     "execution_count": 7,
     "metadata": {},
     "output_type": "execute_result"
    }
   ],
   "source": [
    "a[1][:4]"
   ]
  }
 ],
 "metadata": {
  "kernelspec": {
   "display_name": "jm",
   "language": "python",
   "name": "python3"
  },
  "language_info": {
   "codemirror_mode": {
    "name": "ipython",
    "version": 3
   },
   "file_extension": ".py",
   "mimetype": "text/x-python",
   "name": "python",
   "nbconvert_exporter": "python",
   "pygments_lexer": "ipython3",
   "version": "3.7.1"
  }
 },
 "nbformat": 4,
 "nbformat_minor": 2
}
