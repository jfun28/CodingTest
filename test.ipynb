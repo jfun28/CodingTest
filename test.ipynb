{
 "cells": [
  {
   "cell_type": "code",
   "execution_count": 1,
   "metadata": {},
   "outputs": [
    {
     "name": "stdout",
     "output_type": "stream",
     "text": [
      "deque(['A', 'A', 'A', 'B', 'B', 'C'])\n"
     ]
    }
   ],
   "source": [
    "#팰린드롬: 앞에서 읽을때와 뒤에서 읽을 때랑 같은거\n",
    "from collections import deque\n",
    "\n",
    "m=list(input())\n",
    "\n",
    "m.sort()\n",
    "\n",
    "m=deque(m)\n",
    "\n",
    "\n",
    "print(m)"
   ]
  },
  {
   "cell_type": "code",
   "execution_count": 6,
   "metadata": {},
   "outputs": [],
   "source": [
    "m=list(m)"
   ]
  },
  {
   "cell_type": "code",
   "execution_count": 7,
   "metadata": {},
   "outputs": [
    {
     "data": {
      "text/plain": [
       "['A', 'A', 'A']"
      ]
     },
     "execution_count": 7,
     "metadata": {},
     "output_type": "execute_result"
    }
   ],
   "source": [
<<<<<<< HEAD:heap.ipynb
    "mylist2"
   ]
  },
  {
   "cell_type": "code",
   "execution_count": 2,
   "metadata": {},
   "outputs": [
    {
     "name": "stdout",
     "output_type": "stream",
     "text": [
      "[[0, 7, 5], [7, 0, 99999999999], [5, 99999999999, 0]]\n"
     ]
    }
   ],
   "source": [
    "INF=99999999999\n",
    "graph=[[0,7,5],[7,0,INF],[5,INF,0]]\n",
    "print(graph)"
=======
    "m[:3]"
>>>>>>> 83e0c6306d212dc052b93d22ea456c025988132d:test.ipynb
   ]
  },
  {
   "cell_type": "code",
   "execution_count": 6,
   "metadata": {},
   "outputs": [],
   "source": [
    "fail_ratio = {'A': 0.5, 'B': 0.3, 'C': 0.7, 'D': 0.1}"
   ]
  },
  {
   "cell_type": "code",
   "execution_count": 9,
   "metadata": {},
   "outputs": [
    {
     "data": {
      "text/plain": [
       "['D', 'B', 'A', 'C']"
      ]
     },
     "execution_count": 9,
     "metadata": {},
     "output_type": "execute_result"
    }
   ],
   "source": [
    "sorted(fail_ratio,key=lambda x:fail_ratio[])"
   ]
  },
  {
   "cell_type": "code",
   "execution_count": 10,
   "metadata": {},
   "outputs": [
    {
     "data": {
      "text/plain": [
       "dict_keys(['A', 'B', 'C', 'D'])"
      ]
     },
     "execution_count": 10,
     "metadata": {},
     "output_type": "execute_result"
    }
   ],
   "source": [
    "fail_ratio.keys()"
   ]
  },
  {
   "cell_type": "code",
   "execution_count": 3,
   "metadata": {},
   "outputs": [
    {
     "name": "stdout",
     "output_type": "stream",
     "text": [
      "0\n",
      "1\n"
     ]
    }
   ],
   "source": [
    "from bisect import bisect_left, bisect_right\n",
    "\n",
    "nums=[2,3,4,5,6,7,8,9,10]\n",
    "\n",
    "print(bisect_left(nums,2))\n",
    "\n",
    "print(bisect_right(nums,2))"
   ]
  },
  {
   "cell_type": "code",
   "execution_count": 5,
   "metadata": {},
   "outputs": [
    {
     "name": "stdout",
     "output_type": "stream",
     "text": [
      "[10, 50, 20]\n"
     ]
    }
   ],
   "source": [
    "import heapq\n",
    "heap2 = [50 ,10, 20]\n",
    "heapq.heapify(heap2)\n",
    "\n",
    "print(heap2)"
   ]
  },
  {
   "cell_type": "code",
   "execution_count": null,
   "metadata": {},
   "outputs": [],
   "source": [
    "import heapq\n",
    "import sys\n",
    "input = sys.stdin.readline\n",
    "INF = int(1e9)\n",
    "\n",
    "def dijkstra(start):\n",
    "    q = []\n",
    "    heapq.heappush(q, (0, start))\n",
    "    distance[start] = 0\n",
    "    while q:\n",
    "        dist, now = heapq.heappop(q)\n",
    "        if dist > distance[now]:\n",
    "            continue\n",
    "        for i in graph[now]:\n",
    "            cost = dist + i[1]\n",
    "            if cost < distance[i[0]]:\n",
    "                distance[i[0]] = cost\n",
    "                heapq.heappush(q,(cost, i[0]))\n",
    "\n",
    "\n",
    "n , d = map(int, input().split())\n",
    "graph = [[] for _ in range(d+1)]\n",
    "distance = [INF] * (d+1)\n",
    "\n",
    "for i in range(d):\n",
    "    graph[i].append((i+1, 1))\n",
    "\n",
    "for _ in range(n):\n",
    "    s, e, l = map(int, input().split())\n",
    "    if e > d :\n",
    "        continue\n",
    "    graph[s].append((e,l))\n",
    "\n",
    "dijkstra(0)\n",
    "print(distance[d])"
   ]
  }
 ],
 "metadata": {
  "kernelspec": {
   "display_name": "jm_main",
   "language": "python",
   "name": "python3"
  },
  "language_info": {
   "codemirror_mode": {
    "name": "ipython",
    "version": 3
   },
   "file_extension": ".py",
   "mimetype": "text/x-python",
   "name": "python",
   "nbconvert_exporter": "python",
   "pygments_lexer": "ipython3",
   "version": "3.8.20"
  }
 },
 "nbformat": 4,
 "nbformat_minor": 2
}
