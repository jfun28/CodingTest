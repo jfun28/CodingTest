{
 "cells": [
  {
   "cell_type": "code",
   "execution_count": 1,
   "metadata": {},
   "outputs": [
    {
     "name": "stdout",
     "output_type": "stream",
     "text": [
      "[0, 1, 2, 3, 4, 5, 6, 7, 8, 9]\n"
     ]
    }
   ],
   "source": [
    "# 선택 정렬 소스 코드\n",
    "\n",
    "array=[7,5,9,0,3,1,6,2,4,8]\n",
    "\n",
    "for i in range(len(array)):\n",
    "    min_index=i # 가장 작은 원소의 인덱스\n",
    "    for j in range(i+1,len(array)):\n",
    "        if array[min_index]>array[j]:\n",
    "            min_index=j\n",
    "\n",
    "    array[i],array[min_index]= array[min_index],array[i]\n",
    "\n",
    "print(array)\n",
    "\n",
    "\n"
   ]
  },
  {
   "cell_type": "code",
   "execution_count": 2,
   "metadata": {},
   "outputs": [
    {
     "name": "stdout",
     "output_type": "stream",
     "text": [
      "[0, 1, 2, 3, 4, 5, 6, 7, 8, 9]\n"
     ]
    }
   ],
   "source": [
    "# 삽입 정렬 소스코드\n",
    "array=[7,5,9,0,3,1,6,2,4,8]\n",
    "\n",
    "for i in range(1,len(array)):\n",
    "    for j in range(i,0,-1): # 바꾸는 과정 속에는 버블 정렬 느낌이 난다.  \n",
    "        if array[j-1]>array[j]:\n",
    "            array[j-1],array[j]=array[j],array[j-1]\n",
    "        else: # 크다면 그냥 그 위치 fix\n",
    "            break\n",
    "\n",
    "print(array)"
   ]
  },
  {
   "cell_type": "code",
   "execution_count": 1,
   "metadata": {},
   "outputs": [
    {
     "name": "stdout",
     "output_type": "stream",
     "text": [
      "[0, 1, 2, 3, 4, 5, 6, 7, 8, 9]\n"
     ]
    }
   ],
   "source": [
    "# 퀵정렬\n",
    "\n",
    "array=[5,7,9,0,3,1,6,2,4,8]\n",
    "\n",
    "def quick_sort(array,start,end):\n",
    "    if start >=end: #원소소가 1개인 경우 종료\n",
    "        return\n",
    "    pivot=start # 피벗은 첫 번째 원소\n",
    "    left=start+1\n",
    "    right=end\n",
    "    while left<=right:\n",
    "        # 피벗보다 큰 데이터를 찾을때까지 반복\n",
    "        while left <= end and array[left]<=array[pivot]:\n",
    "            left+=1\n",
    "        # 피벗보다 작은 데이터를 찾을때까지 반복\n",
    "        while right >start and array[right]>=array[pivot]: \n",
    "            right-=1\n",
    "\n",
    "        if left > right: # 엇갈렸다면 작은 데이터와 피벗을 교체-> 이제는 현재 right에 가리키는게 pivot 보다 왼쪽에 와야하니깐\n",
    "            array[right],array[pivot]=array[pivot],array[right]\n",
    "        else:\n",
    "            array[right],array[left]=array[left],array[right]\n",
    "    \n",
    "    # 분할 이후 왼쪽 부분과 오른쪽 부분에서 각각 정렬 수행\n",
    "    quick_sort(array,start,right-1)\n",
    "    quick_sort(array,right+1,end)\n",
    "\n",
    "quick_sort(array,0,len(array)-1)\n",
    "print(array)           \n"
   ]
  },
  {
   "cell_type": "code",
   "execution_count": 4,
   "metadata": {},
   "outputs": [],
   "source": [
    "array=[5,7,9,0,3,1,6,2,4,8]\n"
   ]
  },
  {
   "cell_type": "code",
   "execution_count": 5,
   "metadata": {},
   "outputs": [],
   "source": [
    "divided = list(map(lambda x: x/2, array))"
   ]
  },
  {
   "cell_type": "code",
   "execution_count": 6,
   "metadata": {},
   "outputs": [
    {
     "data": {
      "text/plain": [
       "[2.5, 3.5, 4.5, 0.0, 1.5, 0.5, 3.0, 1.0, 2.0, 4.0]"
      ]
     },
     "execution_count": 6,
     "metadata": {},
     "output_type": "execute_result"
    }
   ],
   "source": [
    "divided"
   ]
  },
  {
   "cell_type": "code",
   "execution_count": 3,
   "metadata": {},
   "outputs": [
    {
     "data": {
      "text/plain": [
       "45"
      ]
     },
     "execution_count": 3,
     "metadata": {},
     "output_type": "execute_result"
    }
   ],
   "source": [
    "sum(array)"
   ]
  },
  {
   "cell_type": "code",
   "execution_count": 1,
   "metadata": {},
   "outputs": [
    {
     "name": "stdout",
     "output_type": "stream",
     "text": [
      "[0, 1, 2, 4, 3, 5, 6, 7, 9, 8]\n"
     ]
    }
   ],
   "source": [
    "# 퀵정렬\n",
    "array=[5,7,9,0,3,1,6,2,4,8]\n",
    "\n",
    "def quick_sort(array,start,end):\n",
    "    if start>=end: # start가 end보다 일치하거나 커지는 상황은 원소의 갯수가 하나 밖에 안 남은 상황이다.\n",
    "        return\n",
    "    pivot=start # pivot은 되게 첫번쨰 원소로 설정을 한다. \n",
    "    left=start+1\n",
    "    right=end\n",
    "\n",
    "    while left<=right:\n",
    "        # 피봇 보다 큰 데이터를 찾을 때까지 반복\n",
    "        while left<=end and array[left]<=array[pivot]:\n",
    "            left+=1\n",
    "        # 피봇 보다 작은 데이터를 찾을 때까지 반복복\n",
    "        while right>start and array[right]>=array[pivot]:\n",
    "            right-=1\n",
    "\n",
    "        if left>right: # 엇갈렸다면\n",
    "            array[right], array[pivot]=array[pivot], array[right]\n",
    "        else:\n",
    "            array[left], array[pivot]=array[pivot],array[left]\n",
    "\n",
    "     # 분할 이후 왼쪽 부분과 오른쪽 부분에서 각각 정렬 수행\n",
    "    quick_sort(array,start,right-1)\n",
    "    quick_sort(array,right+1,end)\n",
    "\n",
    "\n",
    "quick_sort(array,0,len(array)-1)\n",
    "print(array)            \n",
    "\n",
    "        \n",
    "\n"
   ]
  },
  {
   "cell_type": "markdown",
   "metadata": {},
   "source": [
    "### 계수 정렬"
   ]
  },
  {
   "cell_type": "code",
   "execution_count": 2,
   "metadata": {},
   "outputs": [
    {
     "name": "stdout",
     "output_type": "stream",
     "text": [
      "0 0 1 1 2 2 3 4 5 5 6 7 8 9 9 "
     ]
    }
   ],
   "source": [
    "# 모든 원소의 값이 0보다 크거나 같다고 가정\n",
    "array=[7,5,9,0,3,1,6,2,9,1,4,8,0,5,2]\n",
    "# 모든 범위를 포함하는 리스트 선언(모든 값은 0으로 초기화)\n",
    "count=[0]*(max(array)+1)\n",
    "\n",
    "for i in range(len(array)):\n",
    "    count[array[i]]+=1\n",
    "\n",
    "for i in range(len(count)):\n",
    "    for j in range(count[i]):\n",
    "        print(i, end=' ')\n"
   ]
  },
  {
   "cell_type": "code",
   "execution_count": 7,
   "metadata": {},
   "outputs": [
    {
     "name": "stdout",
     "output_type": "stream",
     "text": [
      "[('바나나', 2), ('당근', 3), ('사과', 5)]\n"
     ]
    }
   ],
   "source": [
    "array=[('바나나',2),('사과',5),('당근',3)]\n",
    "\n",
    "def setting(data):\n",
    "    return data[1]\n",
    "\n",
    "result=sorted(array,key=setting)\n",
    "print(result)"
   ]
  },
  {
   "cell_type": "markdown",
   "metadata": {},
   "source": [
    "### 6-11.py 답안 예시"
   ]
  },
  {
   "cell_type": "code",
   "execution_count": 14,
   "metadata": {},
   "outputs": [
    {
     "name": "stdout",
     "output_type": "stream",
     "text": [
      "이순신 홍길동 "
     ]
    }
   ],
   "source": [
    "n=int(input())\n",
    "\n",
    "array=[]\n",
    "for i in range(n):\n",
    "    input_data=(input().split())\n",
    "    array.append((input_data))\n",
    "\n",
    "array=sorted(array,key=lambda student:student[1])\n",
    "\n",
    "for i in array:\n",
    "    print(i[0],end=' ')"
   ]
  },
  {
   "cell_type": "code",
   "execution_count": 13,
   "metadata": {},
   "outputs": [
    {
     "data": {
      "text/plain": [
       "[['이순신', '77'], ['홍길도', '95']]"
      ]
     },
     "execution_count": 13,
     "metadata": {},
     "output_type": "execute_result"
    }
   ],
   "source": [
    "array"
   ]
  }
 ],
 "metadata": {
  "kernelspec": {
   "display_name": "Python 3",
   "language": "python",
   "name": "python3"
  },
  "language_info": {
   "codemirror_mode": {
    "name": "ipython",
    "version": 3
   },
   "file_extension": ".py",
   "mimetype": "text/x-python",
   "name": "python",
   "nbconvert_exporter": "python",
   "pygments_lexer": "ipython3",
   "version": "3.9.1"
  }
 },
 "nbformat": 4,
 "nbformat_minor": 2
}
