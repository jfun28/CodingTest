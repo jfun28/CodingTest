{
 "cells": [
  {
   "cell_type": "code",
   "execution_count": 2,
   "metadata": {},
   "outputs": [
    {
     "name": "stdout",
     "output_type": "stream",
     "text": [
      "218922995834555169026\n"
     ]
    }
   ],
   "source": [
    "# 8-2.py 피보나치 수열 소스코드\n",
    "d=[0]*100\n",
    "\n",
    "# 피보나치 함수를 재귀함수로 구현(탑다운 다이나믹 프로그래밍)\n",
    "def fibo(x):\n",
    "    # 종료 조건(1 혹은 2일 때 1을 반환)\n",
    "    if x==1 or x==2:\n",
    "        return 1\n",
    "\n",
    "    # 이미 계산한 적 있는 문제라면 그대로 반환\n",
    "    if d[x] !=0:\n",
    "        return d[x]\n",
    "    # 아직 계산하지 않은 문제라면 점화식에 따라서 피보나치 결과 반환\n",
    "    d[x]=fibo(x-1)+fibo(x-2)\n",
    "    return d[x]\n",
    "\n",
    "print(fibo(99))\n"
   ]
  },
  {
   "cell_type": "code",
   "execution_count": 3,
   "metadata": {},
   "outputs": [
    {
     "name": "stdout",
     "output_type": "stream",
     "text": [
      "218922995834555169026\n"
     ]
    }
   ],
   "source": [
    "# 8-4.py 피보나치 수열 소스코드(반복적)\n",
    "\n",
    "d=[0]*100\n",
    "\n",
    "# 첫 번째 피보나치 수와 두번째 피보나치 수는 1\n",
    "d[1]=1\n",
    "d[2]=1\n",
    "\n",
    "n=99\n",
    "\n",
    "# 피보나치 함수 반복문으로 구현(보텀업 다이나믹 프로그래밍)\n",
    "for i in range(3,n+1):\n",
    "    d[i]=d[i-1]+d[i-2]\n",
    "\n",
    "print(d[i])"
   ]
  }
 ],
 "metadata": {
  "kernelspec": {
   "display_name": "jm",
   "language": "python",
   "name": "python3"
  },
  "language_info": {
   "codemirror_mode": {
    "name": "ipython",
    "version": 3
   },
   "file_extension": ".py",
   "mimetype": "text/x-python",
   "name": "python",
   "nbconvert_exporter": "python",
   "pygments_lexer": "ipython3",
   "version": "3.7.16"
  }
 },
 "nbformat": 4,
 "nbformat_minor": 2
}
