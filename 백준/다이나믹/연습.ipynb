{
 "cells": [
  {
   "cell_type": "code",
   "execution_count": 2,
   "metadata": {},
   "outputs": [
    {
     "data": {
      "text/plain": [
       "True"
      ]
     },
     "execution_count": 2,
     "metadata": {},
     "output_type": "execute_result"
    }
   ],
   "source": [
    "'3'>'1'"
   ]
  },
  {
   "cell_type": "code",
   "execution_count": null,
   "metadata": {},
   "outputs": [
    {
     "data": {
      "text/plain": [
       "{1: 2, 2: 2, 3: 5}"
      ]
     },
     "execution_count": 17,
     "metadata": {},
     "output_type": "execute_result"
    }
   ],
   "source": [
    "dict2={1:2,2:2,3:5}\n",
    "dict2a"
   ]
  },
  {
   "cell_type": "code",
   "execution_count": 19,
   "metadata": {},
   "outputs": [
    {
     "name": "stdout",
     "output_type": "stream",
     "text": [
      "exist\n"
     ]
    }
   ],
   "source": [
    "if 5 not in dict2:\n",
    "    print(\"exist\")"
   ]
  },
  {
   "cell_type": "code",
   "execution_count": 10,
   "metadata": {},
   "outputs": [],
   "source": [
    "dict2['dog']=1"
   ]
  },
  {
   "cell_type": "code",
   "execution_count": 12,
   "metadata": {},
   "outputs": [
    {
     "name": "stdout",
     "output_type": "stream",
     "text": [
      "[3, 1]\n"
     ]
    }
   ],
   "source": [
    "someList = [8, 9, 7, 3, 1]\n",
    "someDict = {1:2, 2:3, 3:4, 4:5, 5:6}\n",
    "intersection = [i for i in someList if i in someDict]\n",
    "print(intersection)"
   ]
  },
  {
   "cell_type": "code",
   "execution_count": null,
   "metadata": {},
   "outputs": [
    {
     "name": "stdout",
     "output_type": "stream",
     "text": [
      "가능한 경우의 수: 41\n"
     ]
    }
   ],
   "source": [
    "def solve_placement(m=2, n=4):\n",
    "    result = []\n",
    "    \n",
    "    def can_place(grid, x, y):\n",
    "        # 상하좌우 확인a\n",
    "        directions = [(0,1), (0,-1), (1,0), (-1,0)]\n",
    "        for dx, dy in directions:\n",
    "            nx, ny = x + dx, y + dy\n",
    "            if 0 <= nx < m and 0 <= ny < n and grid[nx][ny] == 1:\n",
    "                return False\n",
    "        return True\n",
    "    \n",
    "    def backtrack(grid, x=0, y=0):\n",
    "        if y == n:\n",
    "            x, y = x + 1, 0\n",
    "        if x == m:\n",
    "            result.append([row[:] for row in grid])\n",
    "            return\n",
    "        \n",
    "        # 현재 위치에 아이템 놓기\n",
    "        if can_place(grid, x, y):\n",
    "            grid[x][y] = 1\n",
    "            backtrack(grid, x, y + 1)\n",
    "            grid[x][y] = 0\n",
    "            \n",
    "        # 현재 위치에 아이템 놓지 않기\n",
    "        backtrack(grid, x, y + 1)\n",
    "    \n",
    "    grid = [[0] * n for _ in range(m)]\n",
    "    backtrack(grid)\n",
    "    return len(result)\n",
    "\n",
    "print(f\"가능한 경우의 수: {solve_placement()}\")"
   ]
  },
  {
   "cell_type": "code",
   "execution_count": 2,
   "metadata": {},
   "outputs": [
    {
     "name": "stdout",
     "output_type": "stream",
     "text": [
      "218922995834555169026\n"
     ]
    }
   ],
   "source": [
    "# 8-2.py 피보나치 수열 소스코드\n",
    "d=[0]*100\n",
    "\n",
    "# 피보나치 함수를 재귀함수로 구현(탑다운 다이나믹 프로그래밍)\n",
    "def fibo(x):\n",
    "    # 종료 조건(1 혹은 2일 때 1을 반환)\n",
    "    if x==1 or x==2:\n",
    "        return 1\n",
    "\n",
    "    # 이미 계산한 적 있는 문제라면 그대로 반환\n",
    "    if d[x] !=0:\n",
    "        return d[x]\n",
    "    # 아직 계산하지 않은 문제라면 점화식에 따라서 피보나치 결과 반환\n",
    "    d[x]=fibo(x-1)+fibo(x-2)\n",
    "    return d[x]\n",
    "\n",
    "print(fibo(99))\n"
   ]
  },
  {
   "cell_type": "code",
   "execution_count": 3,
   "metadata": {},
   "outputs": [
    {
     "name": "stdout",
     "output_type": "stream",
     "text": [
      "218922995834555169026\n"
     ]
    }
   ],
   "source": [
    "# 8-4.py 피보나치 수열 소스코드(반복적)\n",
    "\n",
    "d=[0]*100\n",
    "\n",
    "# 첫 번째 피보나치 수와 두번째 피보나치 수는 1\n",
    "d[1]=1\n",
    "d[2]=1\n",
    "\n",
    "n=99\n",
    "\n",
    "# 피보나치 함수 반복문으로 구현(보텀업 다이나믹 프로그래밍)\n",
    "for i in range(3,n+1):\n",
    "    d[i]=d[i-1]+d[i-2]\n",
    "\n",
    "print(d[i])"
   ]
  },
  {
   "cell_type": "code",
   "execution_count": 1,
   "metadata": {},
   "outputs": [
    {
     "data": {
      "text/plain": [
       "True"
      ]
     },
     "execution_count": 1,
     "metadata": {},
     "output_type": "execute_result"
    }
   ],
   "source": [
    "\" \"<'A'"
   ]
  },
  {
   "cell_type": "code",
   "execution_count": null,
   "metadata": {},
   "outputs": [],
   "source": []
  }
 ],
 "metadata": {
  "kernelspec": {
   "display_name": "jm_synthetic",
   "language": "python",
   "name": "python3"
  },
  "language_info": {
   "codemirror_mode": {
    "name": "ipython",
    "version": 3
   },
   "file_extension": ".py",
   "mimetype": "text/x-python",
   "name": "python",
   "nbconvert_exporter": "python",
   "pygments_lexer": "ipython3",
   "version": "3.8.20"
  }
 },
 "nbformat": 4,
 "nbformat_minor": 2
}
