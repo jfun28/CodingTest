{
 "cells": [
  {
   "cell_type": "code",
   "execution_count": null,
   "metadata": {},
   "outputs": [],
   "source": [
    "# 이진 참색 소스코드 구현(재귀적 용법법)\n",
    "\n",
    "def binary_search(array, target, start, end):\n",
    "    if start > end:\n",
    "        return None\n",
    "    mid=(start+end)//2\n",
    "    # 찾은 경우 중간점 인덱스 반환\n",
    "    if array[mid]==target:\n",
    "        return mid\n",
    "\n",
    "    # 중간점의 값보다 찾고자 하는 값이 작은 경우 왼쪽 확인\n",
    "    elif array[mid]> target:\n",
    "        return binary_search(array,target,start,mid-1)\n",
    "    else:\n",
    "        return binary_search(array,target,mid+1,end)\n",
    "\n",
    "n, target=list(map(int,input().split()))\n",
    "array=list(map(int,input().split()))\n",
    "\n",
    "# 이진 탐색 수행 결과 출력\n",
    "result= binary_search(array,target,0,n-1)\n",
    "if result==None:\n",
    "    print(\"원소가 존재하지 않습니다.\")\n",
    "else:\n",
    "    print(result+1)\n"
   ]
  },
  {
   "cell_type": "code",
   "execution_count": null,
   "metadata": {},
   "outputs": [],
   "source": [
    "# 이진 참색 소스코드 구현(반복문)\n",
    "def binary_search(array,target,start,end):\n",
    "    while start<=end:\n",
    "        mid=(start+end)//2\n",
    "        #찾은 경우 중간점 인덱스 반환\n",
    "\n",
    "        if array[mid]==target:\n",
    "            return mid\n",
    "        # 중간점의 값보다 찾고자 하는 값이 작은 경우 왼쪽 확인\n",
    "        elif array[mid]>target:\n",
    "            end=mid-1\n",
    "        # 중간점의 값보다 찾고자 하는 값이 큰 경우 오른쪽 확인\n",
    "        else:\n",
    "            start=mid+1\n",
    "\n",
    "    return None\n",
    "\n",
    "# n(원소의 개수)과 target(찾고자 하는 문자열)을 입력받기\n",
    "\n",
    "n, target=list(map(int,input().split()))\n",
    "array=list(map(int,input().split()))\n",
    "\n",
    "# 이진 탐색 수행 결과 출력\n",
    "result= binary_search(array,target,0,n-1)\n",
    "if result==None:\n",
    "    print(\"원소가 존재하지 않습니다.\")\n",
    "else:\n",
    "    print(result+1)"
   ]
  },
  {
   "cell_type": "code",
   "execution_count": null,
   "metadata": {},
   "outputs": [],
   "source": [
    "import sys\n",
    "input_data=sys.stdin.readline().rstrip()\n",
    "\n",
    "# 입력받은 문자열 그대로 출력\n",
    "print(input_data)"
   ]
  },
  {
   "cell_type": "code",
   "execution_count": null,
   "metadata": {},
   "outputs": [],
   "source": []
  }
 ],
 "metadata": {
  "kernelspec": {
   "display_name": "jm",
   "language": "python",
   "name": "python3"
  },
  "language_info": {
   "codemirror_mode": {
    "name": "ipython",
    "version": 3
   },
   "file_extension": ".py",
   "mimetype": "text/x-python",
   "name": "python",
   "nbconvert_exporter": "python",
   "pygments_lexer": "ipython3",
   "version": "3.7.1"
  }
 },
 "nbformat": 4,
 "nbformat_minor": 2
}
